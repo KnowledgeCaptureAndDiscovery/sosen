{
 "cells": [
  {
   "cell_type": "markdown",
   "metadata": {},
   "source": [
    "# Setting up SoSEn and SoMEF\n",
    "Normally, you would do this via `somef configure` and `python -m sosen configure`, but these are interactive scripts which would not work in the Notebook"
   ]
  },
  {
   "cell_type": "code",
   "execution_count": 1,
   "metadata": {},
   "outputs": [
    {
     "name": "stderr",
     "output_type": "stream",
     "text": [
      "[nltk_data] Downloading package wordnet to /Users/aidan/nltk_data...\n",
      "[nltk_data]   Package wordnet is already up-to-date!\n"
     ]
    }
   ],
   "source": [
    "from somef.configuration import configure as somef_configure\n",
    "from sosen.config import configure as sosen_configure\n",
    "\n",
    "somef_configure()\n",
    "sosen_configure(endpoint=\"https://dev.endpoint.mint.isi.edu/sosen/query\")"
   ]
  },
  {
   "cell_type": "code",
   "execution_count": 3,
   "metadata": {},
   "outputs": [
    {
     "name": "stdout",
     "output_type": "stream",
     "text": [
      "endpoint: https://dev.endpoint.mint.isi.edu/sosen/query\r\n",
      "object_prefix: https://w3id.org/okn/i\r\n"
     ]
    }
   ],
   "source": [
    "!cat ~/.sosen/config.yml"
   ]
  },
  {
   "cell_type": "markdown",
   "metadata": {},
   "source": [
    "# Interacting with the Knowledge Graph\n",
    "Using the below command, we can search the graph, and describe results of searches. Trying typing search and then choosing the description method. Then search for adversarial machine learning. Then, we can describe the first result by doing describe and then 1.\n",
    "\n",
    "Normally, we would run the below command with `python -m sosen interactive`, but we run the script fully in Python for notebook compatability."
   ]
  },
  {
   "cell_type": "code",
   "execution_count": 7,
   "metadata": {},
   "outputs": [
    {
     "name": "stdout",
     "output_type": "stream",
     "text": [
      "Choose an action (search/describe/quit):> search\n",
      "Which method (description/keyword/title)?> description\n",
      "what is your query?> adversarial machine learning\n",
      "\n",
      "MATCHES:\n",
      "|    | result iri                                                                          |   matches |   tf-idf sum |\n",
      "|----|-------------------------------------------------------------------------------------|-----------|--------------|\n",
      "|  1 | https://w3id.org/okn/i/Software/soorya19/sparsity-based-defenses                    |         3 |      1.95632 |\n",
      "|  2 | https://w3id.org/okn/i/Software/mdoucet/refl_ml                                     |         2 |      2.62688 |\n",
      "|  3 | https://w3id.org/okn/i/Software/psesh/Effective-Quadratures                         |         2 |      2.62688 |\n",
      "|  4 | https://w3id.org/okn/i/Software/BENR0/textory                                       |         2 |      1.97016 |\n",
      "|  5 | https://w3id.org/okn/i/Software/andre-wojtowicz/uci-ml-to-r                         |         2 |      1.97016 |\n",
      "|  6 | https://w3id.org/okn/i/Software/fabiodasilva/mlwl                                   |         2 |      1.97016 |\n",
      "|  7 | https://w3id.org/okn/i/Software/masseyr/geosoupML                                   |         2 |      1.97016 |\n",
      "|  8 | https://w3id.org/okn/i/Software/JoshuaE1/supervised-classification-SSH-publications |         2 |      1.57613 |\n",
      "|  9 | https://w3id.org/okn/i/Software/bcbi/PredictMD.jl                                   |         2 |      1.57613 |\n",
      "| 10 | https://w3id.org/okn/i/Software/bnpy/bnpy                                           |         2 |      1.57613 |\n",
      "| 11 | https://w3id.org/okn/i/Software/caiostringari/pywavelearn                           |         2 |      1.57613 |\n",
      "| 12 | https://w3id.org/okn/i/Software/cisprague/Astro.IQ                                  |         2 |      1.57613 |\n",
      "| 13 | https://w3id.org/okn/i/Software/fqararyah/tensorflow-1                              |         2 |      1.57613 |\n",
      "| 14 | https://w3id.org/okn/i/Software/hls-fpga-machine-learning/hls4ml                    |         2 |      1.57613 |\n",
      "| 15 | https://w3id.org/okn/i/Software/machine-learning-scala/mls                          |         2 |      1.57613 |\n",
      "| 16 | https://w3id.org/okn/i/Software/msmbuilder/osprey                                   |         2 |      1.57613 |\n",
      "| 17 | https://w3id.org/okn/i/Software/muammar/ml4chem                                     |         2 |      1.57613 |\n",
      "| 18 | https://w3id.org/okn/i/Software/qzhu2017/PyXtal_FF                                  |         2 |      1.57613 |\n",
      "| 19 | https://w3id.org/okn/i/Software/raamana/confounds                                   |         2 |      1.57613 |\n",
      "| 20 | https://w3id.org/okn/i/Software/scikit-learn/scikit-learn                           |         2 |      1.57613 |\n",
      "Choose an action (search/describe/quit):> describe\n",
      "Enter a space-separated list of URIs\n",
      "Alternatively, enter numbers 1-20, referring to the results of the previous search\n",
      ">1\n",
      "['https://w3id.org/okn/i/Software/soorya19/sparsity-based-defenses']\n",
      "[]\n",
      "['sparsity-based-defenses']\n",
      "[]\n",
      "['soorya19']\n",
      "[]\n",
      "['Sparsity-based defenses against adversarial attacks on machine learning classifiers']\n",
      "[]\n",
      "['Python']\n",
      "[]\n",
      "[]\n",
      "[]\n",
      "['https://api.github.com/licenses/bsd-3-clause']\n",
      "[['name', ['sparsity-based-defenses']], ['author', ['soorya19']], ['description', ['Sparsity-based defenses against adversarial attacks on machine learning classifiers']], ['languages', ['Python']], ['download', []], ['license', ['https://api.github.com/licenses/bsd-3-clause']]]\n",
      "| name        | sparsity-based-defenses                      |\n",
      "|-------------|----------------------------------------------|\n",
      "| author      | soorya19                                     |\n",
      "| description | Sparsity-based defenses against adversarial  |\n",
      "|             | attacks on machine learning classifiers      |\n",
      "| languages   | Python                                       |\n",
      "| license     | https://api.github.com/licenses/bsd-3-clause |\n",
      "Choose an action (search/describe/quit):> quit\n"
     ]
    }
   ],
   "source": [
    "from sosen.cli import run_interactive\n",
    "run_interactive()"
   ]
  },
  {
   "cell_type": "markdown",
   "metadata": {},
   "source": [
    "# Searching the Knowledge Graph (old)\n",
    "Currently, there are three methods for searching the Knowledge Graph via exact keyword matching. There are manual keywords from GitHub, and additional keywords that are extracted from the title and description of software objects, queried using the methods keyword, title, and description, respectively. After the `--method` input, everything else is interpreted as part of the search query. The first 20 matches are printed, ordered first by the number of keywords "
   ]
  },
  {
   "cell_type": "code",
   "execution_count": 1,
   "metadata": {},
   "outputs": [
    {
     "name": "stdout",
     "output_type": "stream",
     "text": [
      "SoSEn Command Line Interface\n",
      "\n",
      "MATCHES:\n",
      "|    | result iri                                                                          |   matches |   tf-idf sum |\n",
      "|----|-------------------------------------------------------------------------------------|-----------|--------------|\n",
      "|  1 | https://w3id.org/okn/i/Software/soorya19/sparsity-based-defenses                    |         3 |      1.95632 |\n",
      "|  2 | https://w3id.org/okn/i/Software/mdoucet/refl_ml                                     |         2 |      2.62688 |\n",
      "|  3 | https://w3id.org/okn/i/Software/psesh/Effective-Quadratures                         |         2 |      2.62688 |\n",
      "|  4 | https://w3id.org/okn/i/Software/BENR0/textory                                       |         2 |      1.97016 |\n",
      "|  5 | https://w3id.org/okn/i/Software/andre-wojtowicz/uci-ml-to-r                         |         2 |      1.97016 |\n",
      "|  6 | https://w3id.org/okn/i/Software/fabiodasilva/mlwl                                   |         2 |      1.97016 |\n",
      "|  7 | https://w3id.org/okn/i/Software/masseyr/geosoupML                                   |         2 |      1.97016 |\n",
      "|  8 | https://w3id.org/okn/i/Software/JoshuaE1/supervised-classification-SSH-publications |         2 |      1.57613 |\n",
      "|  9 | https://w3id.org/okn/i/Software/bcbi/PredictMD.jl                                   |         2 |      1.57613 |\n",
      "| 10 | https://w3id.org/okn/i/Software/bnpy/bnpy                                           |         2 |      1.57613 |\n",
      "| 11 | https://w3id.org/okn/i/Software/caiostringari/pywavelearn                           |         2 |      1.57613 |\n",
      "| 12 | https://w3id.org/okn/i/Software/cisprague/Astro.IQ                                  |         2 |      1.57613 |\n",
      "| 13 | https://w3id.org/okn/i/Software/fqararyah/tensorflow-1                              |         2 |      1.57613 |\n",
      "| 14 | https://w3id.org/okn/i/Software/hls-fpga-machine-learning/hls4ml                    |         2 |      1.57613 |\n",
      "| 15 | https://w3id.org/okn/i/Software/machine-learning-scala/mls                          |         2 |      1.57613 |\n",
      "| 16 | https://w3id.org/okn/i/Software/msmbuilder/osprey                                   |         2 |      1.57613 |\n",
      "| 17 | https://w3id.org/okn/i/Software/muammar/ml4chem                                     |         2 |      1.57613 |\n",
      "| 18 | https://w3id.org/okn/i/Software/qzhu2017/PyXtal_FF                                  |         2 |      1.57613 |\n",
      "| 19 | https://w3id.org/okn/i/Software/raamana/confounds                                   |         2 |      1.57613 |\n",
      "| 20 | https://w3id.org/okn/i/Software/scikit-learn/scikit-learn                           |         2 |      1.57613 |\n"
     ]
    }
   ],
   "source": [
    "%%bash\n",
    "python -m sosen search --method description adversarial machine learning"
   ]
  },
  {
   "cell_type": "code",
   "execution_count": 2,
   "metadata": {},
   "outputs": [
    {
     "name": "stdout",
     "output_type": "stream",
     "text": [
      "SoSEn Command Line Interface\n",
      "\n",
      "MATCHES:\n",
      "|    | result iri                                                           |   matches |   tf-idf sum |\n",
      "|----|----------------------------------------------------------------------|-----------|--------------|\n",
      "|  1 | https://w3id.org/okn/i/Software/bcbi/PredictMD.jl                    |         3 |     2.5966   |\n",
      "|  2 | https://w3id.org/okn/i/Software/smarie/python-azureml-client         |         2 |     1.64152  |\n",
      "|  3 | https://w3id.org/okn/i/Software/radtorch/radtorch                    |         2 |     0.80129  |\n",
      "|  4 | https://w3id.org/okn/i/Software/neelsoumya/butterfly_detector        |         2 |     0.615491 |\n",
      "|  5 | https://w3id.org/okn/i/Software/christopher-beckham/weka-pyscript    |         1 |     2.17881  |\n",
      "|  6 | https://w3id.org/okn/i/Software/iml-wg/HEP-ML-Resources              |         1 |     2.17881  |\n",
      "|  7 | https://w3id.org/okn/i/Software/kjappelbaum/ml_molsim2020            |         1 |     2.17881  |\n",
      "|  8 | https://w3id.org/okn/i/Software/rieck/harry                          |         1 |     2.17881  |\n",
      "|  9 | https://w3id.org/okn/i/Software/rieck/sally                          |         1 |     2.17881  |\n",
      "| 10 | https://w3id.org/okn/i/Software/SommerEngineering/blog-shitty-models |         1 |     1.59044  |\n",
      "| 11 | https://w3id.org/okn/i/Software/CCS-Lab/easyml                       |         1 |     1.45254  |\n",
      "| 12 | https://w3id.org/okn/i/Software/EducationalTestingService/skll       |         1 |     1.45254  |\n",
      "| 13 | https://w3id.org/okn/i/Software/SCCAF/sccaf                          |         1 |     1.45254  |\n",
      "| 14 | https://w3id.org/okn/i/Software/YinLiLin/KAML                        |         1 |     1.45254  |\n",
      "| 15 | https://w3id.org/okn/i/Software/asergiobranco/clara                  |         1 |     1.45254  |\n",
      "| 16 | https://w3id.org/okn/i/Software/ds4dm/nectar                         |         1 |     1.45254  |\n",
      "| 17 | https://w3id.org/okn/i/Software/hls-fpga-machine-learning/hls4ml     |         1 |     1.45254  |\n",
      "| 18 | https://w3id.org/okn/i/Software/jmbr/diffusion-maps                  |         1 |     1.45254  |\n",
      "| 19 | https://w3id.org/okn/i/Software/lil-lab/spf                          |         1 |     1.45254  |\n",
      "| 20 | https://w3id.org/okn/i/Software/maxibor/sourcepredict                |         1 |     1.45254  |\n"
     ]
    }
   ],
   "source": [
    "%%bash\n",
    "python -m sosen search --method keyword machine learning"
   ]
  },
  {
   "cell_type": "code",
   "execution_count": 3,
   "metadata": {},
   "outputs": [
    {
     "name": "stdout",
     "output_type": "stream",
     "text": [
      "SoSEn Command Line Interface\n",
      "\n",
      "MATCHES:\n",
      "|    | result iri                                      |   matches |   tf-idf sum |\n",
      "|----|-------------------------------------------------|-----------|--------------|\n",
      "|  1 | https://w3id.org/okn/i/Software/usc-isi-i2/kgtk |         1 |      9.56163 |\n"
     ]
    }
   ],
   "source": [
    "%%bash\n",
    "python -m sosen search --method title kgtk"
   ]
  },
  {
   "cell_type": "markdown",
   "metadata": {},
   "source": [
    "# Describing a Match\n",
    "Once we get a match, we can inspect it using `sosen describe`."
   ]
  },
  {
   "cell_type": "code",
   "execution_count": 6,
   "metadata": {},
   "outputs": [
    {
     "name": "stdout",
     "output_type": "stream",
     "text": [
      "SoSEn Command Line Interface\n",
      "('https://w3id.org/okn/i/Software/usc-isi-i2/kgtk',)\n",
      "[]\n",
      "['kgtk']\n",
      "[]\n",
      "['usc-isi-i2']\n",
      "[]\n",
      "['Knowledge Graph Toolkit ']\n",
      "[]\n",
      "['Makefile', 'Dockerfile', 'Python', 'Shell']\n",
      "[]\n",
      "[]\n",
      "[]\n",
      "['https://api.github.com/licenses/mit']\n",
      "[['name', ['kgtk']], ['author', ['usc-isi-i2']], ['description', ['Knowledge Graph Toolkit ']], ['languages', ['Dockerfile', 'Makefile', 'Python', 'Shell']], ['download', []], ['license', ['https://api.github.com/licenses/mit']]]\n",
      "| name        | kgtk                                |\n",
      "|-------------|-------------------------------------|\n",
      "| author      | usc-isi-i2                          |\n",
      "| description | Knowledge Graph Toolkit             |\n",
      "| languages   | Dockerfile                          |\n",
      "| \" \"         | Makefile                            |\n",
      "| \" \"         | Python                              |\n",
      "| \" \"         | Shell                               |\n",
      "| license     | https://api.github.com/licenses/mit |\n"
     ]
    }
   ],
   "source": [
    "%%bash\n",
    "python -m sosen describe https://w3id.org/okn/i/Software/usc-isi-i2/kgtk"
   ]
  },
  {
   "cell_type": "code",
   "execution_count": null,
   "metadata": {},
   "outputs": [],
   "source": []
  }
 ],
 "metadata": {
  "kernelspec": {
   "display_name": "local-venv",
   "language": "python",
   "name": "local-venv"
  },
  "language_info": {
   "codemirror_mode": {
    "name": "ipython",
    "version": 3
   },
   "file_extension": ".py",
   "mimetype": "text/x-python",
   "name": "python",
   "nbconvert_exporter": "python",
   "pygments_lexer": "ipython3",
   "version": "3.7.7"
  }
 },
 "nbformat": 4,
 "nbformat_minor": 4
}
