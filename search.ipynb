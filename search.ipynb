{
 "cells": [
  {
   "cell_type": "markdown",
   "metadata": {},
   "source": [
    "# Setting up SoSEn and SoMEF\n",
    "Normally, you would do this via `somef configure` and `python -m sosen configure`, but these are interactive scripts which would not work in the Notebook"
   ]
  },
  {
   "cell_type": "code",
   "execution_count": 1,
   "metadata": {},
   "outputs": [
    {
     "name": "stdout",
     "output_type": "stream",
     "text": [
      "{'endpoint': 'https://dev.endpoint.mint.isi.edu/sosen/query'}\n",
      "endpoint: https://dev.endpoint.mint.isi.edu/sosen/query\n",
      "\n"
     ]
    },
    {
     "name": "stderr",
     "output_type": "stream",
     "text": [
      "[nltk_data] Downloading package wordnet to /Users/aidan/nltk_data...\n",
      "[nltk_data]   Package wordnet is already up-to-date!\n"
     ]
    }
   ],
   "source": [
    "from somef.configuration import configure as somef_configure\n",
    "from sosen.config import configure as sosen_configure\n",
    "\n",
    "somef_configure()\n",
    "sosen_configure(\"https://dev.endpoint.mint.isi.edu/sosen/query\")"
   ]
  },
  {
   "cell_type": "markdown",
   "metadata": {},
   "source": [
    "# Searching the Knowledge Graph\n",
    "Currently, there are three methods for searching the Knowledge Graph via exact keyword matching. There are manual keywords from GitHub, and additional keywords that are extracted from the title and description of software objects, queried using the methods keyword, title, and description, respectively. After the `--method` input, everything else is interpreted as part of the search query. The first 20 matches are printed, ordered first by the number of keywords "
   ]
  },
  {
   "cell_type": "code",
   "execution_count": 2,
   "metadata": {},
   "outputs": [
    {
     "name": "stdout",
     "output_type": "stream",
     "text": [
      "SoSEn Command Line Interface\n",
      "['adversarial', 'machine', 'learning']\n",
      "\n",
      "FOUND KEYWORDS:\n",
      "keyword: https://w3id.org/okn/o/i/Keyword/adversarial, idf: 7.402451520818244\n",
      "keyword: https://w3id.org/okn/o/i/Keyword/machine, idf: 3.915076442915036\n",
      "keyword: https://w3id.org/okn/o/i/Keyword/learning, idf: 3.7312270019430285\n",
      "\n",
      "MATCHES:\n",
      "1. https://w3id.org/okn/o/i/Software/soorya19/sparsity-based-defenses, # keyword matches: 3, tf-idf sum: 0.5094190135977307\n",
      "2. https://w3id.org/okn/o/i/Software/mdoucet/refl_ml, # keyword matches: 2, tf-idf sum: 2.5487678149526882\n",
      "3. https://w3id.org/okn/o/i/Software/raamana/confounds, # keyword matches: 2, tf-idf sum: 1.529260688971613\n",
      "4. https://w3id.org/okn/o/i/Software/fqararyah/tensorflow-1, # keyword matches: 2, tf-idf sum: 1.529260688971613\n",
      "5. https://w3id.org/okn/o/i/Software/cisprague/Astro.IQ, # keyword matches: 2, tf-idf sum: 1.529260688971613\n",
      "6. https://w3id.org/okn/o/i/Software/smcclatchy/machine-learning-python, # keyword matches: 2, tf-idf sum: 1.529260688971613\n",
      "7. https://w3id.org/okn/o/i/Software/JoshuaE1/supervised-classification-SSH-publications, # keyword matches: 2, tf-idf sum: 1.529260688971613\n",
      "8. https://w3id.org/okn/o/i/Software/bbuelens/energy-balance, # keyword matches: 2, tf-idf sum: 1.529260688971613\n",
      "9. https://w3id.org/okn/o/i/Software/indigo-dc/DEEPaaS, # keyword matches: 2, tf-idf sum: 1.4221913058501365\n",
      "10. https://w3id.org/okn/o/i/Software/neelsoumya/butterfly_detector, # keyword matches: 2, tf-idf sum: 1.4221913058501365\n",
      "11. https://w3id.org/okn/o/i/Software/JeanSunny999/Breast-Cancer-Wisconsin-Diagnostic-DataSet, # keyword matches: 2, tf-idf sum: 1.2743839074763441\n",
      "12. https://w3id.org/okn/o/i/Software/mortezanear/Matlab-codes-for-vaccine-tracking, # keyword matches: 2, tf-idf sum: 1.2743839074763441\n",
      "13. https://w3id.org/okn/o/i/Software/Nikeshbajaj/Machine_Learning_From_Scratch, # keyword matches: 2, tf-idf sum: 1.2743839074763441\n",
      "14. https://w3id.org/okn/o/i/Software/bnpy/bnpy, # keyword matches: 2, tf-idf sum: 1.2743839074763441\n",
      "15. https://w3id.org/okn/o/i/Software/gbotto/bats, # keyword matches: 2, tf-idf sum: 1.17635437613201\n",
      "16. https://w3id.org/okn/o/i/Software/caiostringari/pywavelearn, # keyword matches: 2, tf-idf sum: 1.092329063551152\n",
      "17. https://w3id.org/okn/o/i/Software/BENR0/textory, # keyword matches: 2, tf-idf sum: 1.092329063551152\n",
      "18. https://w3id.org/okn/o/i/Software/machine-learning-scala/mls, # keyword matches: 2, tf-idf sum: 1.092329063551152\n",
      "19. https://w3id.org/okn/o/i/Software/CCS-Lab/easyml, # keyword matches: 2, tf-idf sum: 1.092329063551152\n",
      "20. https://w3id.org/okn/o/i/Software/psesh/Effective-Quadratures, # keyword matches: 2, tf-idf sum: 1.092329063551152\n"
     ]
    }
   ],
   "source": [
    "%%bash\n",
    "python -m sosen search --method description adversarial machine learning"
   ]
  },
  {
   "cell_type": "code",
   "execution_count": null,
   "metadata": {},
   "outputs": [],
   "source": [
    "%%bash\n",
    "python -m sosen search --method keyword machine learning"
   ]
  },
  {
   "cell_type": "code",
   "execution_count": null,
   "metadata": {},
   "outputs": [],
   "source": [
    "%%bash\n",
    "python -m sosen search --method title kgtk"
   ]
  },
  {
   "cell_type": "markdown",
   "metadata": {},
   "source": [
    "# Describing a Match\n",
    "Once we get a match, we can inspect it using `sosen describe`."
   ]
  },
  {
   "cell_type": "code",
   "execution_count": null,
   "metadata": {},
   "outputs": [],
   "source": [
    "%%bash\n",
    "python -m sosen describe https://w3id.org/okn/o/i/Software/usc-isi-i2/kgtk"
   ]
  },
  {
   "cell_type": "code",
   "execution_count": null,
   "metadata": {},
   "outputs": [],
   "source": []
  }
 ],
 "metadata": {
  "kernelspec": {
   "display_name": "local-venv",
   "language": "python",
   "name": "local-venv"
  },
  "language_info": {
   "codemirror_mode": {
    "name": "ipython",
    "version": 3
   },
   "file_extension": ".py",
   "mimetype": "text/x-python",
   "name": "python",
   "nbconvert_exporter": "python",
   "pygments_lexer": "ipython3",
   "version": "3.7.7"
  }
 },
 "nbformat": 4,
 "nbformat_minor": 4
}
